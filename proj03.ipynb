{
 "cells": [
  {
   "cell_type": "markdown",
   "id": "57866104",
   "metadata": {},
   "source": [
    "# Exploring profitable free iOS & Android Apps \n",
    "\n",
    "**What the project is about?**\n",
    "-I will be finding free applications that generate a lot of traffic. This data can help future developer understand, what type apps attracting the most users.\n",
    "\n",
    "**What your goal is in this project?**\n",
    "-This guided project is meant to clean up the data. The reason for cleaning it up is so, we only pull out the revelant data we need. Revelant data will help us create a hypothese."
   ]
  },
  {
   "cell_type": "code",
   "execution_count": null,
   "id": "fe55e05f",
   "metadata": {},
   "outputs": [],
   "source": [
    "# import for googleplaystore\n",
    "\n",
    "from csv import reader\n",
    "opened_file = open('googleplaystore.csv',encoding=\"utf-8\")\n",
    "read_file = reader(opened_file)\n",
    "android_all = list(read_file)\n",
    "android_header = android_all[0]\n",
    "android_data = android_all[1:]\n",
    "\n",
    "# print(android_header)\n",
    "# print(anandroid_all)"
   ]
  },
  {
   "cell_type": "code",
   "execution_count": null,
   "id": "cfc17787",
   "metadata": {},
   "outputs": [],
   "source": [
    "# import for Applestore\n",
    "\n",
    "from csv import reader\n",
    "opened_file = open('AppleStore.csv',encoding=\"utf-8\")\n",
    "read_file = reader(opened_file)\n",
    "ios_all = list(read_file)\n",
    "ios_header = ios_all[0]\n",
    "ios_data = ios_all[1:]\n",
    "\n",
    "# print(ios_header)\n",
    "# print(ios_data)\n"
   ]
  },
  {
   "cell_type": "code",
   "execution_count": null,
   "id": "e93ef2b5",
   "metadata": {},
   "outputs": [],
   "source": [
    "# explore_date function to figure out shape or size of the conver\n",
    "\n",
    "def explore_data(data, start, end, row_and_column=False):\n",
    "    data_slice = data[start: end]\n",
    "    \n",
    "    if row_and_column:\n",
    "        row_length = len(data)\n",
    "        column_length = len(data[0])\n",
    "        return row_length, column_length\n",
    "    \n",
    "    return data_slice\n"
   ]
  },
  {
   "cell_type": "code",
   "execution_count": null,
   "id": "fd7895ab",
   "metadata": {},
   "outputs": [],
   "source": [
    "# explore Apple Appstore data set\n",
    "\n",
    "result = explore_data(ios_data, 2001, 2005, row_and_column=False)\n",
    "print(result)\n",
    "\n",
    "row_column_ios = explore_data(ios_data, 2001, 2005, row_and_column=True)\n",
    "print(row_column_ios)\n",
    "row, column = row_column_ios\n",
    "\n",
    "print(\"\\n\")\n",
    "print(\"row:\", row)\n",
    "print(\"column:\", column)"
   ]
  },
  {
   "cell_type": "code",
   "execution_count": null,
   "id": "16a94908",
   "metadata": {},
   "outputs": [],
   "source": [
    "# explore Google Playstore data set\n",
    "\n",
    "print(explore_data(android_data, 2001, 2005))\n",
    "row_column_android = explore_data(android_data, 2001, 2005, row_and_column=True)\n",
    "row, column = row_column_android\n",
    "\n",
    "print(\"\\n\")\n",
    "print(\"row:\", row)\n",
    "print(\"column:\", column)"
   ]
  },
  {
   "cell_type": "code",
   "execution_count": null,
   "id": "461586c7",
   "metadata": {},
   "outputs": [],
   "source": [
    "# remove dataset with missing columns \n",
    "\n",
    "def remove_less(data, data_header):\n",
    "    for row in data:\n",
    "        if len(row) < len(data_header):\n",
    "            print(row)\n",
    "            print(len(row))\n",
    "            print(data.index(row))\n",
    "            del data[data.index(row)]\n",
    "            \n",
    "remove_less(ios_data, ios_header)            \n",
    "remove_less(android_data, android_header)\n",
    "\n",
    "print(\"ios number of row:\",len(ios_data))\n",
    "print(\"android number of row:\",len(android_data))"
   ]
  },
  {
   "cell_type": "code",
   "execution_count": null,
   "id": "3ef78e38",
   "metadata": {
    "scrolled": true
   },
   "outputs": [],
   "source": [
    "# quick way of finding duplicates in our android_data by name\n",
    "\n",
    "for app in android_data:\n",
    "    app_name = app[0]\n",
    "    if app_name == \"Quick PDF Scanner + OCR FREE\":\n",
    "        print(app)"
   ]
  },
  {
   "cell_type": "code",
   "execution_count": null,
   "id": "3a8fc8af",
   "metadata": {
    "scrolled": true
   },
   "outputs": [],
   "source": [
    "# Finding which andriod apps have duplicates and listing some\n",
    "\n",
    "unique_apps = []\n",
    "duplicate_apps = []\n",
    "\n",
    "for app in android_data:\n",
    "    name = app[0]\n",
    "    if name in unique_apps:\n",
    "        duplicate_apps.append(name)\n",
    "    else:\n",
    "        unique_apps.append(name)\n",
    "        \n",
    "print(\"Number of duplicate apps is\", len(duplicate_apps), \"\\n\")\n",
    "print(\"Number of unique apps is\", len(unique_apps), \"\\n\")\n",
    "print(\"Some duplicate:\", duplicate_apps[:20])"
   ]
  },
  {
   "cell_type": "code",
   "execution_count": null,
   "id": "44dc9326",
   "metadata": {},
   "outputs": [],
   "source": [
    "# dictionary with key=unique app name, and value=highest number of reviews of each app\n",
    "\n",
    "reviews_max = {}\n",
    "\n",
    "for app in android_data:\n",
    "    name = app[0]\n",
    "    n_reviews = float(app[3])\n",
    "    if name in reviews_max and reviews_max[name] < n_reviews:\n",
    "        reviews_max[name] = n_reviews\n",
    "    elif name not in reviews_max:\n",
    "        reviews_max[name] = n_reviews\n",
    "        \n",
    "print(\"Andriod expected length:\", len(reviews_max))\n",
    "print(\"Andriod expected length after removing the duplicate:\", len(android_data) - len(duplicate_apps))\n",
    "# print(reviews_max)"
   ]
  },
  {
   "cell_type": "code",
   "execution_count": null,
   "id": "5803510d",
   "metadata": {},
   "outputs": [],
   "source": [
    "# pick recent review and clean duplicates \n",
    "\n",
    "android_data_clean = []\n",
    "already_added = []\n",
    "\n",
    "for app in android_data:\n",
    "    name = app[0]\n",
    "    n_reviews = float(app[3])\n",
    "    \n",
    "    if (n_reviews == reviews_max[name]) and (name not in already_added):\n",
    "        android_data_clean.append(app)\n",
    "        already_added.append(name)\n",
    "\n",
    "explore_data(android_data_clean, 0, 3, row_and_column=True)"
   ]
  },
  {
   "cell_type": "code",
   "execution_count": null,
   "id": "e62a0e94",
   "metadata": {},
   "outputs": [],
   "source": [
    "# for android apps \n",
    "\n",
    "print(android_data_clean[4412][0])\n",
    "print(android_data_clean[7940][0], \"\\n\")\n",
    "\n",
    "# for iOS apps \n",
    "\n",
    "print(ios_data[813][1])\n",
    "print(ios_data[6731][1])"
   ]
  },
  {
   "cell_type": "code",
   "execution_count": null,
   "id": "09215022",
   "metadata": {},
   "outputs": [],
   "source": [
    "# char who pass 127 on ASCI table are not english. More than 3 outside 0-127 = not eng app\n",
    "\n",
    "def is_eng(string):\n",
    "    count = 0\n",
    "    for char in string:\n",
    "        if ord(char) >= 127:\n",
    "            count += 1\n",
    "            if count > 3:\n",
    "                return False\n",
    "    return True\n",
    "\n",
    "eng_or_not = \"Is this string english?:\"\n",
    "print(eng_or_not, is_eng(\"Docs To Go™ Free Office Suite\"))\n",
    "print(eng_or_not, is_eng(\"Instachat 😜\"))\n",
    "print(eng_or_not, is_eng(\"爱奇艺PPS -《欢乐颂2》电视剧热播\"))\n",
    "print(eng_or_not, is_eng(\"™™™™\"))   "
   ]
  },
  {
   "cell_type": "code",
   "execution_count": null,
   "id": "65879b09",
   "metadata": {},
   "outputs": [],
   "source": [
    "# english_apps function to clean both ios and andriod apps that aren't english\n",
    "\n",
    "def english_apps(data_set, ios=False):\n",
    "    english_apps_data = []\n",
    "    \n",
    "    for app in data_set:\n",
    "        app_name_android = app[0]\n",
    "        app_name_ios = app[1]\n",
    "        \n",
    "        if not ios:\n",
    "            if is_eng(app_name_android):\n",
    "                english_apps_data.append(app)\n",
    "                \n",
    "        if ios:\n",
    "            if is_eng(app_name_ios):\n",
    "                english_apps_data.append(app)\n",
    "    \n",
    "    return english_apps_data\n",
    "\n",
    "android_data_clean_english = english_apps(data_set=android_data_clean)\n",
    "ios_data_english = english_apps(data_set=ios_data, ios=True)\n",
    "\n",
    "\n",
    "print(explore_data(android_data_clean_english, 0, 3, True))\n",
    "print(\"\\n\")\n",
    "print(explore_data(ios_data_english, 0, 3, True))"
   ]
  },
  {
   "cell_type": "code",
   "execution_count": null,
   "id": "26cd9a95",
   "metadata": {},
   "outputs": [],
   "source": [
    "# free_apps function created to strip paid apps, which determines my final length. \n",
    "\n",
    "def free_apps(data_set, ios=False):\n",
    "    free_apps_data = []\n",
    "    \n",
    "    for app in data_set:\n",
    "        price_andrioid = float(app[7].strip(\"$\"))\n",
    "        \n",
    "        if not ios:\n",
    "            if price_andrioid ==0:\n",
    "                free_apps_data.append(app)\n",
    "                \n",
    "        if ios:\n",
    "            price_ios = float(app[4])\n",
    "            if price_ios == 0:\n",
    "                free_apps_data.append(app)\n",
    "                \n",
    "    return free_apps_data\n",
    "\n",
    "android_data_final = free_apps(data_set=android_data_clean_english)\n",
    "print(\"Final length of android data after cleaning paid apps:\", len(android_data_final))\n",
    "\n",
    "ios_data_final = free_apps(data_set=ios_data_english, ios=True)\n",
    "print(\"Final length of ios data after cleaning paid apps:\", len(ios_data_final))"
   ]
  },
  {
   "cell_type": "code",
   "execution_count": null,
   "id": "16370eab",
   "metadata": {},
   "outputs": [],
   "source": [
    "def freq_table(data_set, index):\n",
    "    table = {}\n",
    "    total = 0\n",
    "    \n",
    "    for row in data_set:\n",
    "        total += 1\n",
    "        value = row[index]\n",
    "        if value in table:\n",
    "            table[value] += 1\n",
    "        else:\n",
    "            table[value] = 1\n",
    "    \n",
    "    table_percentages = {}\n",
    "    for key in table:\n",
    "        percentage = (table[key]/total) *100\n",
    "        table_percentages[key] = percentage \n",
    "        \n",
    "    return table_percentages\n",
    "\n",
    "def display_table(dataset, index):\n",
    "    table = freq_table(dataset, index)\n",
    "    table_display = []\n",
    "    for key in table:\n",
    "        key_val_as_tuple = (table[key], key)\n",
    "        table_display.append(key_val_as_tuple)\n",
    "        \n",
    "    table_sorted = sorted(table_display, reverse = True)\n",
    "    for entry in table_sorted:\n",
    "        print(entry[1], ':', entry[0])"
   ]
  },
  {
   "cell_type": "code",
   "execution_count": null,
   "id": "f3187e01",
   "metadata": {},
   "outputs": [],
   "source": [
    "# ios prime genre \n",
    "\n",
    "display_table(ios_data_final, -5)"
   ]
  },
  {
   "cell_type": "code",
   "execution_count": null,
   "id": "fda081a5",
   "metadata": {},
   "outputs": [],
   "source": [
    "# Andriod Category \n",
    "\n",
    "display_table(android_data_final, 1) "
   ]
  },
  {
   "cell_type": "code",
   "execution_count": null,
   "id": "67f6c1d5",
   "metadata": {},
   "outputs": [],
   "source": [
    "# android genres \n",
    "\n",
    "display_table(android_data_final, -4) "
   ]
  },
  {
   "cell_type": "markdown",
   "id": "7d33edde",
   "metadata": {},
   "source": [
    "# iOS Prime_genre analysis \n",
    "\n",
    "**What is the most common genre? What is the runner-up?**\n",
    "\n",
    "-The most common is genre is games at 58.16%. The runner up is the Entertainment apps at 8%.\n",
    "\n",
    "**What other patterns do you see?**\n",
    "\n",
    "-Games, entertainment, social media, music, etc. Seems, people like using apple devices for their entertainment mostly.\n",
    "\n",
    "**What is the general impression — are most of the apps designed for practical purposes (education, shopping, utilities, productivity, lifestyle) or more for entertainment (games, photo and video, social networking, sports, music)?**\n",
    "\n",
    "Most of the apps being made for iOS are being made for peoples entertainment.\n",
    "\n",
    "**Can you recommend an app profile for the App Store market based on this frequency table alone? If there's a large number of apps for a particular genre, does that also imply that apps of that genre generally have a large number of users?**\n",
    "\n",
    "-I would recommend the Socail Networking genre. Since, game apps just saturared and I know people are more glued to the Soocial network genre. \n"
   ]
  },
  {
   "cell_type": "markdown",
   "id": "e4a29a0b",
   "metadata": {},
   "source": [
    "# Android category and genres analysis\n",
    "\n",
    "**What are the most common genres?**\n",
    "-The Google play store most common are family,tools,lifestyle,etc) \n",
    "\n",
    "**What other patterns do you see?**\n",
    "-I notice that the family Category is the highest at 18.907 and this is where most of the games are for kids. But seems like Android users overall are most divese compared to apple users.\n",
    "\n",
    "**Compare the patterns you see for the Google Play market with those you saw for the App Store market.**\n",
    "-I belive the Google market is less for like entertainment and more for bussiness, lifestyle, productivity, etc. This tell me that their crowd might be more mature compared to apple users.\n",
    "\n",
    "**Can you recommend an app profile based on what you found so far? Do the frequency tables you generated reveal the most frequent app genres or what genres have the most users?**\n",
    "-Yes I would recommened something that will be helpful to android users. So, that would fall under the Tools genre. The frequent table shows us how often apps are downloaded in that catagory. For example \"Navigation\" is really high because everyone uses apps like Waze and Google Maps.\n",
    "\n"
   ]
  },
  {
   "cell_type": "code",
   "execution_count": null,
   "id": "30a8a5f2",
   "metadata": {},
   "outputs": [],
   "source": [
    "# find most popular apps by genre using average number of installs (ios)\n",
    "\n",
    "genres_ios = freq_table(ios_data_final, -5)\n",
    "\n",
    "for genre in genres_ios:\n",
    "    total = 0\n",
    "    len_genre = 0\n",
    "    for app in ios_data_final:\n",
    "        genre_app = app[-5]\n",
    "        if genre_app == genre:\n",
    "            n_reviews = float(app[5])\n",
    "            total += n_reviews\n",
    "            len_genre += 1\n",
    "    avg_num_ratings = total / len_genre\n",
    "    print(genre, \":\", avg_num_ratings)"
   ]
  },
  {
   "cell_type": "code",
   "execution_count": null,
   "id": "5f52e425",
   "metadata": {},
   "outputs": [],
   "source": [
    "# ios apps that contribute to \"Navigation\" being one of the top apps genre \n",
    "\n",
    "for app in ios_data_final:\n",
    "    if app[-5] == \"Navigation\":\n",
    "        print(app[1], \":\", app[5], )"
   ]
  },
  {
   "cell_type": "code",
   "execution_count": null,
   "id": "eb5450ea",
   "metadata": {},
   "outputs": [],
   "source": [
    "# ios apps that contribute to \"Social Networking\" being one of the top apps genre \n",
    "\n",
    "for app in ios_data_final:\n",
    "    if app[-5] == \"Social Networking\":\n",
    "        print(app[1], \":\", app[5], )"
   ]
  },
  {
   "cell_type": "code",
   "execution_count": null,
   "id": "80347922",
   "metadata": {},
   "outputs": [],
   "source": [
    "# data doesn't work the same as it did with iOS so we have to clean it up\n",
    "display_table(android_data_final, 5)"
   ]
  },
  {
   "cell_type": "code",
   "execution_count": null,
   "id": "e6d670d6",
   "metadata": {
    "scrolled": true
   },
   "outputs": [],
   "source": [
    "# clean up data and converting data by using float to removing unwanted strings\n",
    "categories_andoid = freq_table(android_data_final, 1)\n",
    "\n",
    "for category in categories_andoid:\n",
    "    total = 0\n",
    "    len_category = 0\n",
    "    for app in android_data_final:\n",
    "        category_app = app[1]\n",
    "        \n",
    "        if category_app == category:\n",
    "            num_installs = app[5]\n",
    "            num_installs = num_installs.replace(\",\", \"\")\n",
    "            num_installs = num_installs.replace(\"+\", \"\")\n",
    "            total += float(num_installs)\n",
    "            len_category += 1\n",
    "            \n",
    "    avg_num_installs = total / len_category\n",
    "    print(category, \":\", avg_num_installs)"
   ]
  },
  {
   "cell_type": "code",
   "execution_count": null,
   "id": "3cdb2400",
   "metadata": {},
   "outputs": [],
   "source": [
    "for app in android_data_final:\n",
    "    if app[1] == 'COMMUNICATION' and (app[5] == '1,000,000,000+'\n",
    "                                      or app[5] == '500,000,000+'\n",
    "                                      or app[5] == '100,000,000+'):\n",
    "        print(app[0], ':', app[5])"
   ]
  },
  {
   "cell_type": "markdown",
   "id": "5f03e92d",
   "metadata": {},
   "source": [
    "## Overall analysis\n",
    "\n",
    "*I personally recommend an app in the communcaiton catagory. This is because I feel people are most attached to these app and can't get enough of them. If done correctly it will be explosive. It might require great amount of work and time to build one but the market needs something that stands out from the rest.In total it has the most installs of any category. The communication category does well no matter the operating system as well.  "
   ]
  }
 ],
 "metadata": {
  "kernelspec": {
   "display_name": "Python 3 (ipykernel)",
   "language": "python",
   "name": "python3"
  },
  "language_info": {
   "codemirror_mode": {
    "name": "ipython",
    "version": 3
   },
   "file_extension": ".py",
   "mimetype": "text/x-python",
   "name": "python",
   "nbconvert_exporter": "python",
   "pygments_lexer": "ipython3",
   "version": "3.9.7"
  }
 },
 "nbformat": 4,
 "nbformat_minor": 5
}
